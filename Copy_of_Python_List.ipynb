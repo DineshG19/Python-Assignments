{
  "cells": [
    {
      "cell_type": "markdown",
      "id": "db689fc2",
      "metadata": {
        "id": "db689fc2"
      },
      "source": [
        "### Question 1: Write a Python program to count the number of elements in a list without using len.\n",
        "\n",
        "\n",
        "- `sample input : `\n",
        "    - `var = [10,11,12,13]`\n",
        "- `sample output :`\n",
        "    - `result : 4`"
      ]
    },
    {
      "cell_type": "code",
      "execution_count": null,
      "id": "c9ce9180",
      "metadata": {
        "id": "c9ce9180",
        "colab": {
          "base_uri": "https://localhost:8080/"
        },
        "outputId": "95355438-e73f-4904-fdf0-32d9a17c8453"
      },
      "outputs": [
        {
          "output_type": "stream",
          "name": "stdout",
          "text": [
            "1\n",
            "2\n",
            "3\n",
            "4\n"
          ]
        }
      ],
      "source": [
        "# Please write The solution Here for above question 1:\n",
        "a = [10,11,12,13]\n",
        "count=0\n",
        "for i in a:\n",
        "  count=count+1\n",
        "  print(count)\n",
        "\n",
        "\n",
        "\n"
      ]
    },
    {
      "cell_type": "markdown",
      "id": "46f069cc",
      "metadata": {
        "id": "46f069cc"
      },
      "source": [
        "### Question 2: Write a Python program to find the maximum and minimum values in a given list.\n",
        "\n",
        "- `sample input : `\n",
        "    - `var = [10,11,12,13,14,15]`\n",
        "- `sample output :`\n",
        "    - `result : max = 15 , min = 10`"
      ]
    },
    {
      "cell_type": "code",
      "execution_count": null,
      "id": "2cde3dcc",
      "metadata": {
        "id": "2cde3dcc",
        "colab": {
          "base_uri": "https://localhost:8080/",
          "height": 211
        },
        "outputId": "7cb76e43-cb10-4bfe-f0d4-f327145f81be"
      },
      "outputs": [
        {
          "output_type": "error",
          "ename": "AttributeError",
          "evalue": "'list' object has no attribute 'max'",
          "traceback": [
            "\u001b[0;31m---------------------------------------------------------------------------\u001b[0m",
            "\u001b[0;31mAttributeError\u001b[0m                            Traceback (most recent call last)",
            "\u001b[0;32m<ipython-input-17-2f79e0c4d05f>\u001b[0m in \u001b[0;36m<cell line: 4>\u001b[0;34m()\u001b[0m\n\u001b[1;32m      2\u001b[0m \u001b[0ma\u001b[0m \u001b[0;34m=\u001b[0m \u001b[0;34m[\u001b[0m\u001b[0;36m10\u001b[0m\u001b[0;34m,\u001b[0m\u001b[0;36m11\u001b[0m\u001b[0;34m,\u001b[0m\u001b[0;36m12\u001b[0m\u001b[0;34m,\u001b[0m\u001b[0;36m13\u001b[0m\u001b[0;34m,\u001b[0m\u001b[0;36m14\u001b[0m\u001b[0;34m,\u001b[0m\u001b[0;36m15\u001b[0m\u001b[0;34m]\u001b[0m\u001b[0;34m\u001b[0m\u001b[0;34m\u001b[0m\u001b[0m\n\u001b[1;32m      3\u001b[0m \u001b[0mb\u001b[0m\u001b[0;34m=\u001b[0m\u001b[0ma\u001b[0m\u001b[0;34m\u001b[0m\u001b[0;34m\u001b[0m\u001b[0m\n\u001b[0;32m----> 4\u001b[0;31m \u001b[0mb\u001b[0m\u001b[0;34m.\u001b[0m\u001b[0mmax\u001b[0m\u001b[0;34m(\u001b[0m\u001b[0;34m)\u001b[0m\u001b[0;34m\u001b[0m\u001b[0;34m\u001b[0m\u001b[0m\n\u001b[0m\u001b[1;32m      5\u001b[0m \u001b[0;34m\u001b[0m\u001b[0m\n\u001b[1;32m      6\u001b[0m \u001b[0;34m\u001b[0m\u001b[0m\n",
            "\u001b[0;31mAttributeError\u001b[0m: 'list' object has no attribute 'max'"
          ]
        }
      ],
      "source": [
        "# Please write The solution Here for above question 2:\n",
        "a = [10,11,12,13,14,15]\n",
        "b=a\n",
        "b.max()\n",
        "\n",
        "\n",
        "\n",
        "\n",
        "\n"
      ]
    },
    {
      "cell_type": "markdown",
      "id": "0f3a2ef5",
      "metadata": {
        "id": "0f3a2ef5"
      },
      "source": [
        "### Question 3: Write a Python program to remove the first occurrence of a specified element from a list.\n",
        "\n",
        "- `sample input : `\n",
        "    - `var = [1,2,3,4,2,5]`\n",
        "- `sample output :`\n",
        "    - `result : [1,3,4,2,5]`\n",
        "    "
      ]
    },
    {
      "cell_type": "code",
      "execution_count": null,
      "id": "74b9f01a",
      "metadata": {
        "id": "74b9f01a"
      },
      "outputs": [],
      "source": [
        "# Please write The solution Here for above question 3:\n",
        "\n",
        "\n"
      ]
    },
    {
      "cell_type": "markdown",
      "id": "98e0fc60",
      "metadata": {
        "id": "98e0fc60"
      },
      "source": [
        "### Question 4: Write a Python program to find the average of all the elements in a list.\n",
        "\n",
        "\n",
        "- `sample input : `\n",
        "    - `var = [1,2,3,4,2,5]`\n",
        "- `sample output :`\n",
        "    - `result : 2.833 `"
      ]
    },
    {
      "cell_type": "code",
      "execution_count": null,
      "id": "5ed30f02",
      "metadata": {
        "id": "5ed30f02",
        "colab": {
          "base_uri": "https://localhost:8080/"
        },
        "outputId": "b504dc29-efe4-4cc4-d6a2-d16ee05ccd7d"
      },
      "outputs": [
        {
          "output_type": "stream",
          "name": "stdout",
          "text": [
            "2.8333333333333335\n",
            "[1, 2, 3, 4, 2, 5]\n"
          ]
        }
      ],
      "source": [
        "# Please write The solution Here for above question 4:\n",
        "a = [1,2,3,4,2,5]\n",
        "print(sum(a)/6)\n",
        "\n",
        "\n",
        "print(a)\n",
        "\n",
        "\n"
      ]
    },
    {
      "cell_type": "markdown",
      "id": "17eb44eb",
      "metadata": {
        "id": "17eb44eb"
      },
      "source": [
        "### Question 5: Write a Python program to check if a list is empty or not.\n",
        "\n",
        "\n",
        "- `sample input : `\n",
        "    - `var1 = [1,2]`\n",
        "- `sample output :`\n",
        "    - `result : Not empty`\n",
        "    \n",
        "- `sample input : `\n",
        "    - `var1 = []`\n",
        "- `sample output :`\n",
        "    - `result :empty`\n",
        "    \n"
      ]
    },
    {
      "cell_type": "code",
      "execution_count": null,
      "id": "29f0e87e",
      "metadata": {
        "id": "29f0e87e",
        "colab": {
          "base_uri": "https://localhost:8080/"
        },
        "outputId": "33ab6f4a-2431-49df-9ac8-a1117bb773c0"
      },
      "outputs": [
        {
          "output_type": "stream",
          "name": "stdout",
          "text": [
            "empty\n"
          ]
        }
      ],
      "source": [
        "# Please write The solution Here for above question 5:\n",
        "a=[1,2]\n",
        "b=[]\n",
        "if a==b:\n",
        " print ('not empty')\n",
        "else:\n",
        " print('empty')\n",
        "\n"
      ]
    },
    {
      "cell_type": "markdown",
      "id": "fac17884",
      "metadata": {
        "id": "fac17884"
      },
      "source": [
        "### Question 6:  Write a Python program to find the index of a specified element in a list..\n",
        "\n",
        "- `sample input : `\n",
        "    - `var = [1,2,3,4,2,5]`\n",
        "- `sample output :`\n",
        "    - `result : 3 index is 2`"
      ]
    },
    {
      "cell_type": "code",
      "execution_count": null,
      "id": "f4b33095",
      "metadata": {
        "id": "f4b33095",
        "colab": {
          "base_uri": "https://localhost:8080/"
        },
        "outputId": "aea0e62b-5701-4aea-a1e3-c704d38a0b23"
      },
      "outputs": [
        {
          "output_type": "stream",
          "name": "stdout",
          "text": [
            "2\n"
          ]
        }
      ],
      "source": [
        "# Please write The solution Here for above question 6:\n",
        "a = [1,2,3,4,2,5]\n",
        "print(a.index(3))\n",
        "\n",
        "\n"
      ]
    },
    {
      "cell_type": "markdown",
      "id": "2170d6f4",
      "metadata": {
        "id": "2170d6f4"
      },
      "source": [
        "### Question 7: Write a Python program to find which number is palindrome in below given list .\n",
        "\n",
        "- `sample input : `\n",
        "    - `var = [134,121,155]`\n",
        "- `sample output :`\n",
        "    - `result : 134 is not a palindome , 121 is a palindrome `"
      ]
    },
    {
      "cell_type": "code",
      "execution_count": null,
      "id": "f35de8b3",
      "metadata": {
        "id": "f35de8b3"
      },
      "outputs": [],
      "source": [
        "# Please write The solution Here for above question 7:\n",
        "\n"
      ]
    },
    {
      "cell_type": "markdown",
      "id": "f349bdb7",
      "metadata": {
        "id": "f349bdb7"
      },
      "source": [
        "### Question 8: Write a Python program to find the common elements between two lists.\n",
        "\n",
        "- `sample input : `\n",
        "    - `var1 = [1,2,3,4,10]`\n",
        "    - `var2 = [10,11,12,14]`\n",
        "- `sample output :`\n",
        "    - `result : 10`"
      ]
    },
    {
      "cell_type": "code",
      "execution_count": null,
      "id": "a1b4c4e6",
      "metadata": {
        "id": "a1b4c4e6"
      },
      "outputs": [],
      "source": [
        "# Please write The solution Here for above question 8:\n",
        "\n"
      ]
    },
    {
      "cell_type": "markdown",
      "id": "d2770696",
      "metadata": {
        "id": "d2770696"
      },
      "source": [
        "### Question 9: Write a Python program to remove the duplicates from a list\n",
        "\n",
        "- `sample input : `\n",
        "    - `var = [10,11,12,10,12,24]`\n",
        "- `sample output :`\n",
        "    - `result : [10,11,12,24]`"
      ]
    },
    {
      "cell_type": "code",
      "execution_count": null,
      "id": "7fdc2e9c",
      "metadata": {
        "id": "7fdc2e9c",
        "colab": {
          "base_uri": "https://localhost:8080/"
        },
        "outputId": "584f34f9-44de-41dd-b7df-5c631f3be3a3"
      },
      "outputs": [
        {
          "output_type": "stream",
          "name": "stdout",
          "text": [
            "None\n"
          ]
        }
      ],
      "source": [
        "# Please write The solution Here for above question 9:\n",
        "\n",
        "\n",
        "pass\n"
      ]
    },
    {
      "cell_type": "markdown",
      "id": "5c9a3f09",
      "metadata": {
        "id": "5c9a3f09"
      },
      "source": [
        "### Question 10:  Write a Python program to sort a list of strings in Ascii Order [Ascending order]\n",
        "\n",
        "\n",
        "- `sample input : `\n",
        "    - `var = ['a' , 'c' , 'b']`\n",
        "- `sample output :`\n",
        "    - `result : ['a' , 'b' , 'c']`\n"
      ]
    },
    {
      "cell_type": "code",
      "execution_count": null,
      "id": "57c0c30e",
      "metadata": {
        "id": "57c0c30e",
        "colab": {
          "base_uri": "https://localhost:8080/"
        },
        "outputId": "7f7a1322-b2db-42c7-8afa-d52864cae035"
      },
      "outputs": [
        {
          "output_type": "stream",
          "name": "stdout",
          "text": [
            "['a', 'b', 'c']\n"
          ]
        }
      ],
      "source": [
        "# Please write The solution Here for above question 10:\n",
        "a = ['a' , 'c' , 'b']\n",
        "a.sort()\n",
        "print(a)\n",
        "\n"
      ]
    },
    {
      "cell_type": "code",
      "source": [],
      "metadata": {
        "id": "dmWi-zh3IUJd"
      },
      "id": "dmWi-zh3IUJd",
      "execution_count": null,
      "outputs": []
    }
  ],
  "metadata": {
    "kernelspec": {
      "display_name": "Python 3 (ipykernel)",
      "language": "python",
      "name": "python3"
    },
    "language_info": {
      "codemirror_mode": {
        "name": "ipython",
        "version": 3
      },
      "file_extension": ".py",
      "mimetype": "text/x-python",
      "name": "python",
      "nbconvert_exporter": "python",
      "pygments_lexer": "ipython3",
      "version": "3.11.5"
    },
    "colab": {
      "provenance": []
    }
  },
  "nbformat": 4,
  "nbformat_minor": 5
}